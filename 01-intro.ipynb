{
 "metadata": {
  "name": "",
  "signature": "sha256:1c32b501f67253fcb5ade46c3cf0aa0d6bc8d2ce82dfc3ad2a48f8fa46679c27"
 },
 "nbformat": 3,
 "nbformat_minor": 0,
 "worksheets": [
  {
   "cells": [
    {
     "cell_type": "markdown",
     "metadata": {
      "slideshow": {
       "slide_type": "slide"
      }
     },
     "source": [
      "# IPython Notebook & Parallel\n",
      "\n",
      "# Scott Burns\n",
      "\n",
      "## @scottsburns on twitter\n",
      "## `sburns` on github\n",
      "\n",
      "### Me\n",
      "\n",
      "* Neuroimaging Researcher at Vanderbilt\n",
      "* Research informatics\n",
      "* Think a lot about engineering better science"
     ]
    },
    {
     "cell_type": "markdown",
     "metadata": {
      "slideshow": {
       "slide_type": "slide"
      }
     },
     "source": [
      "# What is IPython?\n",
      "\n",
      "## Yet Another REPL\n",
      "\n",
      "* Dynamic object introspection (docstrings, function definitions, source code) using `?`\n",
      "* Tab completion of the local namespace\n",
      "* \"Magic\" commands like `%run`, `%paste`, `%timeit`, `%load`\n",
      "* Shell access through `!`\n",
      "* Profiler support\n",
      "* Much more"
     ]
    },
    {
     "cell_type": "markdown",
     "metadata": {
      "slideshow": {
       "slide_type": "slide"
      }
     },
     "source": [
      "# What is IPython?\n",
      "\n",
      "* Advanced interactive python shell\n",
      "* Client-server process communication that puts REPL **Evaluate** on steriods. \n",
      "    * IPython console\n",
      "    * IPython QTConsole\n",
      "    * **IPython Notebook**\n",
      "* Interactive parallel computing including:\n",
      "    * Execution engines on anything from multicore workstations to supercomputers\n",
      "    * Architecture to support many kinds of parallelism, from message passing to task farming\n",
      "    * Blocking & async interfaces\n",
      "    * Direct and load-balanced views to engines"
     ]
    },
    {
     "cell_type": "markdown",
     "metadata": {
      "slideshow": {
       "slide_type": "slide"
      }
     },
     "source": [
      "# What is IPython?\n",
      "\n",
      "An advanced system for [Literate Programming](http://en.wikipedia.org/wiki/Literate_programming):\n",
      "\n",
      "> Literate programming is an approach to programming introduced by Donald Knuth in which a program is given as an explanation of the program logic in a natural language, such as English, interspersed with snippets of macros and traditional source code, from which a compilable source code can be generated.\n",
      "\n",
      "# Framework for building, testing & deploying arguments based in software"
     ]
    },
    {
     "cell_type": "markdown",
     "metadata": {
      "slideshow": {
       "slide_type": "slide"
      }
     },
     "source": [
      "# Presenting an argument requires more than code\n",
      "\n",
      "## Should consider\n",
      "\n",
      "* Previous work & Assumptions\n",
      "* Methodology\n",
      "* Results\n",
      "* **Discussion**\n",
      "\n",
      "As software developers, we argue all the time with one another. Your code implicilty says this is both what and how it should be done.\n"
     ]
    },
    {
     "cell_type": "markdown",
     "metadata": {
      "slideshow": {
       "slide_type": "slide"
      }
     },
     "source": [
      "# Installation\n",
      "\n",
      "    $ pip install ipython[notebook]\n",
      "    \n",
      "* IPython\n",
      "* Jinja2\n",
      "* pyzmq (may need to compile depending on libzmq)\n",
      "* tornado\n",
      "\n"
     ]
    },
    {
     "cell_type": "code",
     "collapsed": false,
     "input": [
      "from base import style_nb\n",
      "style_nb()"
     ],
     "language": "python",
     "metadata": {
      "slideshow": {
       "slide_type": "skip"
      }
     },
     "outputs": [
      {
       "html": [
        "\n",
        "<style>\n",
        "    @font-face {\n",
        "        font-family: \"Computer Modern\";\n",
        "        src: url('http://mirrors.ctan.org/fonts/cm-unicode/fonts/otf/cmunss.otf');\n",
        "    }\n",
        "    div.cell{\n",
        "        width: 90%;\n",
        "/*        margin-left:auto;*/\n",
        "/*        margin-right:auto;*/\n",
        "    }\n",
        "    ul {\n",
        "        line-height: 145%;\n",
        "        font-size: 90%;\n",
        "    }\n",
        "    li {\n",
        "        margin-bottom: 1em;\n",
        "    }\n",
        "    h1 {\n",
        "        font-family: Helvetica, serif;\n",
        "    }\n",
        "    h4{\n",
        "        margin-top: 12px;\n",
        "        margin-bottom: 3px;\n",
        "       }\n",
        "    div.text_cell_render{\n",
        "        font-family: Computer Modern, \"Helvetica Neue\", Arial, Helvetica, Geneva, sans-serif;\n",
        "        line-height: 145%;\n",
        "        font-size: 130%;\n",
        "        width: 90%;\n",
        "        margin-left:auto;\n",
        "        margin-right:auto;\n",
        "    }\n",
        "    .CodeMirror{\n",
        "            font-family: \"Source Code Pro\", source-code-pro,Consolas, monospace;\n",
        "    }\n",
        "/*    .prompt{\n",
        "        display: None;\n",
        "    }*/\n",
        "    .text_cell_render h5 {\n",
        "        font-weight: 300;\n",
        "        font-size: 16pt;\n",
        "        color: #4057A1;\n",
        "        font-style: italic;\n",
        "        margin-bottom: 0.5em;\n",
        "        margin-top: 0.5em;\n",
        "        display: block;\n",
        "    }\n",
        "\n",
        "    .warning{\n",
        "        color: rgb( 240, 20, 20 )\n",
        "        }\n",
        "</style>"
       ],
       "metadata": {},
       "output_type": "pyout",
       "prompt_number": 1,
       "text": [
        "<IPython.core.display.HTML at 0x106b24c90>"
       ]
      }
     ],
     "prompt_number": 1
    }
   ],
   "metadata": {}
  }
 ]
}