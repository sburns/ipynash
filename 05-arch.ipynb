{
 "metadata": {
  "name": "",
  "signature": "sha256:42246538922aa3bbd6d619e276aec5a4e6c84a9c2f81a88cef0189575f21431f"
 },
 "nbformat": 3,
 "nbformat_minor": 0,
 "worksheets": [
  {
   "cells": [
    {
     "cell_type": "markdown",
     "metadata": {
      "slideshow": {
       "slide_type": "slide"
      }
     },
     "source": [
      "# Messaging in IPython\n",
      "\n",
      "## Based on 2.0.0b1\n",
      "\n",
      "See http://ipython.org/ipython-doc/dev/development/\n",
      "\n",
      "### (Non-Python Front-ends)\n"
     ]
    },
    {
     "cell_type": "code",
     "collapsed": false,
     "input": [
      "from IPython.core.display import Image\n",
      "Image(url='http://ipython.org/ipython-doc/dev/_images/frontend-kernel.png')"
     ],
     "language": "python",
     "metadata": {
      "slideshow": {
       "slide_type": "slide"
      }
     },
     "outputs": [
      {
       "html": [
        "<img src=\"http://ipython.org/ipython-doc/dev/_images/frontend-kernel.png\"/>"
       ],
       "metadata": {},
       "output_type": "pyout",
       "prompt_number": 4,
       "text": [
        "<IPython.core.display.Image at 0x103c01c50>"
       ]
      }
     ],
     "prompt_number": 4
    },
    {
     "cell_type": "markdown",
     "metadata": {
      "slideshow": {
       "slide_type": "slide"
      }
     },
     "source": [
      "# Message Formatting\n",
      "\n",
      "## JSON over ZeroMQ (over WebSockets for the notebook)\n",
      "\n",
      "* All clients can decode JSON\n",
      "* Some performance issues\n",
      "\n",
      "Basic Message Format:\n",
      "\n",
      "    {\n",
      "        'header': {\n",
      "            'msg_id': uuid,\n",
      "            'username': str,\n",
      "            'session': uuid,\n",
      "            'msg_type': str,\n",
      "            },\n",
      "         'parent_header': dict,\n",
      "         'metadata': dict,\n",
      "         'content': dict,\n",
      "    }\n",
      "        "
     ]
    },
    {
     "cell_type": "markdown",
     "metadata": {
      "slideshow": {
       "slide_type": "slide"
      }
     },
     "source": [
      "# Messages to the kernel (green ROUTER/DEALER)\n",
      "\n",
      "* Execute (`execute_request` / `execute_reply`)\n",
      "* Object information (`object_info_request` / `object_info_reply`)\n",
      "* Completion (`complete_request` / `complete_reply`)\n",
      "* History (`history_request` / `history_reply`)\n",
      "* Connect (`connect_request` / `connect_reply`)\n",
      "* Kernel Info (`kernel_info_request` / `kernel_info_reply`)\n",
      "* Kernel Shutdown (`shutdown_request` / `shutdown_reply`)"
     ]
    },
    {
     "cell_type": "markdown",
     "metadata": {
      "slideshow": {
       "slide_type": "slide"
      }
     },
     "source": [
      "# Messages on the PUB/SUB\n",
      "\n",
      "* Stdout/Stderr streams (`stream`)\n",
      "* Display data (text, html, svg, png) (`display_data`)\n",
      "* Raw data (`data_pub`) _no front-ends currently support this_\n",
      "* Python inputs(`pyin`) _so other front-ends can keep up_\n",
      "* Python outputs(`pyout`)\n",
      "    * Overrides `sys.displayhook` to publish at least pretty-printed text\n",
      "    * Other formats can also be sent\n",
      "* Python errors (`pyerr`)\n",
      "* Kernel status (`status`)\n",
      "* Clear output (`clear_output`)"
     ]
    },
    {
     "cell_type": "markdown",
     "metadata": {
      "slideshow": {
       "slide_type": "slide"
      }
     },
     "source": [
      "# Messages on the stdin ROUTER/DEALER\n",
      "\n",
      "Cell blocks can generate operations reading from `sys.stdin` (`raw_input`)\n",
      "\n",
      "* Input request (`input_request`)\n",
      "* Input reponse (`input_response`)"
     ]
    },
    {
     "cell_type": "markdown",
     "metadata": {
      "slideshow": {
       "slide_type": "slide"
      }
     },
     "source": [
      "# Custom messages\n",
      "\n",
      "### New to IPython 2.0\n",
      "\n",
      "Developers can add objects with own front- and back-end components\n",
      "\n",
      "* Kernel listens on the shell channel, frontend listens on the Pub channel\n",
      "\n",
      "Actions:\n",
      "\n",
      "* Open (`comm_open`)\n",
      "* Message (`comm_message`)\n",
      "* Tear down (`comm_close`)\n",
      "\n"
     ]
    },
    {
     "cell_type": "code",
     "collapsed": false,
     "input": [
      "from base import style_nb\n",
      "style_nb()"
     ],
     "language": "python",
     "metadata": {
      "slideshow": {
       "slide_type": "skip"
      }
     },
     "outputs": [
      {
       "html": [
        "\n",
        "<style>\n",
        "    @font-face {\n",
        "        font-family: \"Computer Modern\";\n",
        "        src: url('http://mirrors.ctan.org/fonts/cm-unicode/fonts/otf/cmunss.otf');\n",
        "    }\n",
        "    div.cell{\n",
        "        width: 90%;\n",
        "/*        margin-left:auto;*/\n",
        "/*        margin-right:auto;*/\n",
        "    }\n",
        "    ul {\n",
        "        line-height: 145%;\n",
        "        font-size: 90%;\n",
        "    }\n",
        "    li {\n",
        "        margin-bottom: 1em;\n",
        "    }\n",
        "    h1 {\n",
        "        font-family: Helvetica, serif;\n",
        "    }\n",
        "    h4{\n",
        "        margin-top: 12px;\n",
        "        margin-bottom: 3px;\n",
        "       }\n",
        "    div.text_cell_render{\n",
        "        font-family: Computer Modern, \"Helvetica Neue\", Arial, Helvetica, Geneva, sans-serif;\n",
        "        line-height: 145%;\n",
        "        font-size: 130%;\n",
        "        width: 90%;\n",
        "        margin-left:auto;\n",
        "        margin-right:auto;\n",
        "    }\n",
        "    .CodeMirror{\n",
        "            font-family: \"Source Code Pro\", source-code-pro,Consolas, monospace;\n",
        "    }\n",
        "/*    .prompt{\n",
        "        display: None;\n",
        "    }*/\n",
        "    .text_cell_render h5 {\n",
        "        font-weight: 300;\n",
        "        font-size: 16pt;\n",
        "        color: #4057A1;\n",
        "        font-style: italic;\n",
        "        margin-bottom: 0.5em;\n",
        "        margin-top: 0.5em;\n",
        "        display: block;\n",
        "    }\n",
        "\n",
        "    .warning{\n",
        "        color: rgb( 240, 20, 20 )\n",
        "        }\n",
        "</style>"
       ],
       "metadata": {},
       "output_type": "pyout",
       "prompt_number": 3,
       "text": [
        "<IPython.core.display.HTML at 0x103c01b10>"
       ]
      }
     ],
     "prompt_number": 3
    }
   ],
   "metadata": {}
  }
 ]
}