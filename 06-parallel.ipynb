{
 "metadata": {
  "name": "",
  "signature": "sha256:3764ab4a5a16d4e9d9bd31692de992a924bf954e2e279ca290ba2313edda7d29"
 },
 "nbformat": 3,
 "nbformat_minor": 0,
 "worksheets": [
  {
   "cells": [
    {
     "cell_type": "markdown",
     "metadata": {
      "slideshow": {
       "slide_type": "slide"
      }
     },
     "source": [
      "# IPython.parallel\n",
      "\n",
      "## GIL prevents thread-level parallelism in python.\n",
      "\n",
      "## process-level parallelism is easier with `multiprocessing`\n",
      "\n",
      "([joblib](https://pypi.python.org/pypi/joblib) is even easier!)\n",
      "\n",
      "## `multiprocessing` doesn't scale beyond a machine :(\n",
      "\n",
      "## If your problem is \"embarassingly parallel\", want to throw more CPUs at it..."
     ]
    },
    {
     "cell_type": "markdown",
     "metadata": {
      "slideshow": {
       "slide_type": "slide"
      }
     },
     "source": [
      "# Enter IPython.parallel\n",
      "\n",
      "## Problem:\n",
      "\n",
      "* Need to align many processed brains into the same space.\n",
      "* Must align every brain to one another (N<sup>2</sup>) and look for \"best\" brain.\n",
      "* No alignment depends on one another ---> embarrasingly parallel problem\n",
      "* An alignment takes ~1.5 minutes \n",
      "    * Overhead for PBS is on the order of a few minutes, so can't send it to Vandy's cluster\n",
      "\n",
      "# Demo time"
     ]
    },
    {
     "cell_type": "markdown",
     "metadata": {
      "slideshow": {
       "slide_type": "slide"
      }
     },
     "source": [
      "# Remember Whit's ZMQ talk?"
     ]
    },
    {
     "cell_type": "code",
     "collapsed": false,
     "input": [
      "from IPython.core.display import Image\n",
      "Image(url='http://ipython.org/ipython-doc/dev/_images/allconnections.png')"
     ],
     "language": "python",
     "metadata": {
      "slideshow": {
       "slide_type": "subslide"
      }
     },
     "outputs": [
      {
       "html": [
        "<img src=\"http://ipython.org/ipython-doc/dev/_images/allconnections.png\"/>"
       ],
       "metadata": {},
       "output_type": "pyout",
       "prompt_number": 1,
       "text": [
        "<IPython.core.display.Image at 0x10a986c90>"
       ]
      }
     ],
     "prompt_number": 1
    },
    {
     "cell_type": "markdown",
     "metadata": {
      "slideshow": {
       "slide_type": "slide"
      }
     },
     "source": [
      "# There's a lot going on under the hood\n",
      "\n",
      "# Using IPython.parallel\n",
      "\n",
      "`$ ipcluster start --profile=`\n",
      "\n",
      "* Starts controller & engines, more hands-off approach for simple setups\n",
      "\n",
      "`$ ipcontroller --profile= && $ ipengine --profile=`\n",
      "\n",
      "* If you need to control details or fancy setups\n"
     ]
    },
    {
     "cell_type": "markdown",
     "metadata": {
      "slideshow": {
       "slide_type": "slide"
      }
     },
     "source": [
      "# Engines\n",
      "\n",
      "## Out of the box support for:\n",
      "\n",
      "* LocalEngine\n",
      "* SSHEngine\n",
      "* MPIEngine\n",
      "* PBSEngine\n",
      "\n",
      "## EC2 support through [StarCluster](http://star.mit.edu/cluster/)\n",
      "\n",
      "* Toolkit from MIT for large scale genome sequencing\n",
      "* But it applies nicely to general science computing on EC2"
     ]
    },
    {
     "cell_type": "code",
     "collapsed": false,
     "input": [
      "from base import style_nb\n",
      "style_nb()"
     ],
     "language": "python",
     "metadata": {
      "slideshow": {
       "slide_type": "skip"
      }
     },
     "outputs": [
      {
       "html": [
        "\n",
        "<style>\n",
        "    @font-face {\n",
        "        font-family: \"Computer Modern\";\n",
        "        src: url('http://mirrors.ctan.org/fonts/cm-unicode/fonts/otf/cmunss.otf');\n",
        "    }\n",
        "    div.cell{\n",
        "        width: 90%;\n",
        "/*        margin-left:auto;*/\n",
        "/*        margin-right:auto;*/\n",
        "    }\n",
        "    ul {\n",
        "        line-height: 145%;\n",
        "        font-size: 90%;\n",
        "    }\n",
        "    li {\n",
        "        margin-bottom: 1em;\n",
        "    }\n",
        "    h1 {\n",
        "        font-family: Helvetica, serif;\n",
        "    }\n",
        "    h4{\n",
        "        margin-top: 12px;\n",
        "        margin-bottom: 3px;\n",
        "       }\n",
        "    div.text_cell_render{\n",
        "        font-family: Computer Modern, \"Helvetica Neue\", Arial, Helvetica, Geneva, sans-serif;\n",
        "        line-height: 145%;\n",
        "        font-size: 130%;\n",
        "        width: 90%;\n",
        "        margin-left:auto;\n",
        "        margin-right:auto;\n",
        "    }\n",
        "    .CodeMirror{\n",
        "            font-family: \"Source Code Pro\", source-code-pro,Consolas, monospace;\n",
        "    }\n",
        "/*    .prompt{\n",
        "        display: None;\n",
        "    }*/\n",
        "    .text_cell_render h5 {\n",
        "        font-weight: 300;\n",
        "        font-size: 16pt;\n",
        "        color: #4057A1;\n",
        "        font-style: italic;\n",
        "        margin-bottom: 0.5em;\n",
        "        margin-top: 0.5em;\n",
        "        display: block;\n",
        "    }\n",
        "\n",
        "    .warning{\n",
        "        color: rgb( 240, 20, 20 )\n",
        "        }\n",
        "</style>"
       ],
       "metadata": {},
       "output_type": "pyout",
       "prompt_number": 1,
       "text": [
        "<IPython.core.display.HTML at 0x10827c250>"
       ]
      }
     ],
     "prompt_number": 1
    }
   ],
   "metadata": {}
  }
 ]
}