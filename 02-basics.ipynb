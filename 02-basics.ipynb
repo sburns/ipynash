{
 "metadata": {
  "name": "",
  "signature": "sha256:f6bfa7f7ca8f143166d05a277c3477e3799e0efe23aed5dc5ba8bc7a5d5b4e11"
 },
 "nbformat": 3,
 "nbformat_minor": 0,
 "worksheets": [
  {
   "cells": [
    {
     "cell_type": "markdown",
     "metadata": {},
     "source": [
      "# Notebook basics\n",
      "\n",
      "* Cell Editing\n",
      "* Introspection\n",
      "* Python <--> Shell Execution"
     ]
    },
    {
     "cell_type": "markdown",
     "metadata": {},
     "source": [
      "Let's make a stupid class:"
     ]
    },
    {
     "cell_type": "code",
     "collapsed": false,
     "input": [
      "class Foo(object):\n",
      "    \"\"\" The quintessential **Foo** object.\"\"\"\n",
      "    \n",
      "    def __init__(self, bar=None, bat=None):\n",
      "        self.bar = bar\n",
      "        self.bat = bat\n",
      "\n",
      "    def __getitem__(self, k):\n",
      "        return getattr(self, k)\n",
      "    \n",
      "    def keys(self):\n",
      "        return ['bar', 'bat']\n",
      "\n",
      "    def __repr__(self):\n",
      "        return 'Foo({bar}, {bat})'.format(**self)\n",
      "    \n",
      "    def do(self):\n",
      "        \"\"\"Main doing interface\n",
      "        \n",
      "        **caution**: this will do it\n",
      "        \"\"\"\n",
      "        print \"{} is getting it done\".format(self)"
     ],
     "language": "python",
     "metadata": {},
     "outputs": [],
     "prompt_number": 1
    },
    {
     "cell_type": "markdown",
     "metadata": {},
     "source": [
      "Go ahead and make a `Foo`"
     ]
    },
    {
     "cell_type": "code",
     "collapsed": false,
     "input": [
      "foo = Foo(bar=1, bat='2')\n",
      "foo"
     ],
     "language": "python",
     "metadata": {},
     "outputs": [
      {
       "metadata": {},
       "output_type": "pyout",
       "prompt_number": 11,
       "text": [
        "Foo(1, 2)"
       ]
      }
     ],
     "prompt_number": 11
    },
    {
     "cell_type": "markdown",
     "metadata": {},
     "source": [
      "Unbound doctstring:"
     ]
    },
    {
     "cell_type": "code",
     "collapsed": false,
     "input": [
      "Foo.do?"
     ],
     "language": "python",
     "metadata": {},
     "outputs": [],
     "prompt_number": 15
    },
    {
     "cell_type": "markdown",
     "metadata": {},
     "source": [
      "What was that function again?"
     ]
    },
    {
     "cell_type": "code",
     "collapsed": false,
     "input": [
      "foo.do?"
     ],
     "language": "python",
     "metadata": {},
     "outputs": [],
     "prompt_number": 14
    },
    {
     "cell_type": "markdown",
     "metadata": {},
     "source": [
      "And the docstring for a bound method..."
     ]
    },
    {
     "cell_type": "code",
     "collapsed": false,
     "input": [
      "!ls -l"
     ],
     "language": "python",
     "metadata": {},
     "outputs": [
      {
       "output_type": "stream",
       "stream": "stdout",
       "text": [
        "total 90800\r\n",
        "-rw-r--r--   1 scottburns  staff      5706 Mar 13 12:34 01-intro.ipynb\r\n",
        "-rw-r--r--   1 scottburns  staff      8773 Mar 13 12:35 02-basics.ipynb\r\n",
        "-rw-r--r--   1 scottburns  staff  46406356 Mar 12 09:46 03-data.ipynb\r\n",
        "-rw-r--r--   1 scottburns  staff     17678 Mar 12 09:47 04-magic.ipynb\r\n",
        "-rw-r--r--   1 scottburns  staff      7052 Mar 12 09:37 05-arch.ipynb\r\n",
        "-rw-r--r--   1 scottburns  staff      5515 Mar 13 12:11 06-parallel.ipynb\r\n",
        "-rw-r--r--   1 scottburns  staff      4269 Mar 13 12:30 07-wrapup.ipynb\r\n",
        "-rw-r--r--   1 scottburns  staff       947 Mar 10 15:33 README.md\r\n",
        "-rw-r--r--   1 scottburns  staff       130 Mar 10 12:22 base.py\r\n",
        "-rw-r--r--   1 scottburns  staff       351 Mar 10 12:36 base.pyc\r\n",
        "drwxr-xr-x   3 scottburns  staff       102 Mar  7 11:43 \u001b[34mcss\u001b[m\u001b[m\r\n",
        "drwxr-xr-x   4 scottburns  staff       136 Mar 10 15:08 \u001b[34mdata\u001b[m\u001b[m\r\n",
        "drwxr-xr-x  11 scottburns  staff       374 Mar  6 16:04 \u001b[34mnb-slideshow-template\u001b[m\u001b[m\r\n",
        "-rw-r--r--   1 scottburns  staff       318 Mar 10 09:04 requirements.txt\r\n"
       ]
      }
     ],
     "prompt_number": 16
    },
    {
     "cell_type": "code",
     "collapsed": false,
     "input": [
      "files = 'README.md base.py'\n",
      "!ls -l $files"
     ],
     "language": "python",
     "metadata": {},
     "outputs": [
      {
       "output_type": "stream",
       "stream": "stdout",
       "text": [
        "-rw-r--r--  1 scottburns  staff  947 Mar 10 15:33 README.md\r\n",
        "-rw-r--r--  1 scottburns  staff  130 Mar 10 12:22 base.py\r\n"
       ]
      }
     ],
     "prompt_number": 17
    },
    {
     "cell_type": "code",
     "collapsed": false,
     "input": [
      "files = !find . -type f -name '*.ipynb'\n",
      "for f in files:\n",
      "    !echo $f"
     ],
     "language": "python",
     "metadata": {},
     "outputs": [
      {
       "output_type": "stream",
       "stream": "stdout",
       "text": [
        "./.ipynb_checkpoints/01-intro-checkpoint.ipynb\r\n"
       ]
      },
      {
       "output_type": "stream",
       "stream": "stdout",
       "text": [
        "./.ipynb_checkpoints/02-basics-checkpoint.ipynb\r\n"
       ]
      },
      {
       "output_type": "stream",
       "stream": "stdout",
       "text": [
        "./.ipynb_checkpoints/03-data-checkpoint.ipynb\r\n"
       ]
      },
      {
       "output_type": "stream",
       "stream": "stdout",
       "text": [
        "./.ipynb_checkpoints/04-magic-checkpoint.ipynb\r\n"
       ]
      },
      {
       "output_type": "stream",
       "stream": "stdout",
       "text": [
        "./.ipynb_checkpoints/05-arch-checkpoint.ipynb\r\n"
       ]
      },
      {
       "output_type": "stream",
       "stream": "stdout",
       "text": [
        "./.ipynb_checkpoints/06-parallel-checkpoint.ipynb\r\n"
       ]
      },
      {
       "output_type": "stream",
       "stream": "stdout",
       "text": [
        "./.ipynb_checkpoints/07-wrapup-checkpoint.ipynb\r\n"
       ]
      },
      {
       "output_type": "stream",
       "stream": "stdout",
       "text": [
        "./.ipynb_checkpoints/install-support-checkpoint.ipynb\r\n"
       ]
      },
      {
       "output_type": "stream",
       "stream": "stdout",
       "text": [
        "./01-intro.ipynb\r\n"
       ]
      },
      {
       "output_type": "stream",
       "stream": "stdout",
       "text": [
        "./02-basics.ipynb\r\n"
       ]
      },
      {
       "output_type": "stream",
       "stream": "stdout",
       "text": [
        "./03-data.ipynb\r\n"
       ]
      },
      {
       "output_type": "stream",
       "stream": "stdout",
       "text": [
        "./04-magic.ipynb\r\n"
       ]
      },
      {
       "output_type": "stream",
       "stream": "stdout",
       "text": [
        "./05-arch.ipynb\r\n"
       ]
      },
      {
       "output_type": "stream",
       "stream": "stdout",
       "text": [
        "./06-parallel.ipynb\r\n"
       ]
      },
      {
       "output_type": "stream",
       "stream": "stdout",
       "text": [
        "./07-wrapup.ipynb\r\n"
       ]
      },
      {
       "output_type": "stream",
       "stream": "stdout",
       "text": [
        "./nb-slideshow-template/install-support.ipynb\r\n"
       ]
      },
      {
       "output_type": "stream",
       "stream": "stdout",
       "text": [
        "./nb-slideshow-template/notebook-slideshow-example.ipynb\r\n"
       ]
      }
     ],
     "prompt_number": 18
    },
    {
     "cell_type": "code",
     "collapsed": false,
     "input": [
      "from base import style_nb\n",
      "style_nb()"
     ],
     "language": "python",
     "metadata": {},
     "outputs": [
      {
       "html": [
        "\n",
        "<style>\n",
        "    @font-face {\n",
        "        font-family: \"Computer Modern\";\n",
        "        src: url('http://mirrors.ctan.org/fonts/cm-unicode/fonts/otf/cmunss.otf');\n",
        "    }\n",
        "    div.cell{\n",
        "        width: 90%;\n",
        "/*        margin-left:auto;*/\n",
        "/*        margin-right:auto;*/\n",
        "    }\n",
        "    ul {\n",
        "        line-height: 145%;\n",
        "        font-size: 90%;\n",
        "    }\n",
        "    li {\n",
        "        margin-bottom: 1em;\n",
        "    }\n",
        "    h1 {\n",
        "        font-family: Helvetica, serif;\n",
        "    }\n",
        "    h4{\n",
        "        margin-top: 12px;\n",
        "        margin-bottom: 3px;\n",
        "       }\n",
        "    div.text_cell_render{\n",
        "        font-family: Computer Modern, \"Helvetica Neue\", Arial, Helvetica, Geneva, sans-serif;\n",
        "        line-height: 145%;\n",
        "        font-size: 130%;\n",
        "        width: 90%;\n",
        "        margin-left:auto;\n",
        "        margin-right:auto;\n",
        "    }\n",
        "    .CodeMirror{\n",
        "            font-family: \"Source Code Pro\", source-code-pro,Consolas, monospace;\n",
        "    }\n",
        "/*    .prompt{\n",
        "        display: None;\n",
        "    }*/\n",
        "    .text_cell_render h5 {\n",
        "        font-weight: 300;\n",
        "        font-size: 16pt;\n",
        "        color: #4057A1;\n",
        "        font-style: italic;\n",
        "        margin-bottom: 0.5em;\n",
        "        margin-top: 0.5em;\n",
        "        display: block;\n",
        "    }\n",
        "\n",
        "    .warning{\n",
        "        color: rgb( 240, 20, 20 )\n",
        "        }\n",
        "</style>"
       ],
       "metadata": {},
       "output_type": "pyout",
       "prompt_number": 19,
       "text": [
        "<IPython.core.display.HTML at 0x107d1e810>"
       ]
      }
     ],
     "prompt_number": 19
    }
   ],
   "metadata": {}
  }
 ]
}