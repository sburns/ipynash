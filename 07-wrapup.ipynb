{
 "metadata": {
  "name": "",
  "signature": "sha256:67a3fc4573fdf44b06cf3fc1a8915d9210d215cf5786c6ff00aea19b8c142751"
 },
 "nbformat": 3,
 "nbformat_minor": 0,
 "worksheets": [
  {
   "cells": [
    {
     "cell_type": "markdown",
     "metadata": {
      "slideshow": {
       "slide_type": "slide"
      }
     },
     "source": [
      "# Wrapping up\n",
      "\n",
      "## Why has the IPython notebook taken off in science?\n",
      "\n",
      "* Combine elaborate thought processes with their actual implementation\n",
      "    * Much more than code comments\n",
      "* Combine data collection, wrangling & visualization into a single place\n",
      "    * No separate scripts that quickly get out of sync with one another\n",
      "    * Scientists are NOT software engineers\n",
      "* Free & *relatively* easy to install (see [(Ana)conda](http://continuum.io/downloads))\n",
      "* A really pretty face on top of numpy, scipy, matplotlib, pandas, etc\n",
      "* IPython notebook : python :: OS X : unix\n",
      "    * ?\n",
      "    * (feel free to shoot that one down)"
     ]
    },
    {
     "cell_type": "markdown",
     "metadata": {
      "slideshow": {
       "slide_type": "slide"
      }
     },
     "source": [
      "# What's ahead\n",
      "\n",
      "## 2.0\n",
      "\n",
      "* Modal UI\n",
      "* Widgets\n",
      "* Signed notebooks\n",
      "* \"Running\" tab\n",
      "* New message specification\n",
      "\n",
      "## 3.0\n",
      "\n",
      "See [here](https://github.com/ipython/ipython/wiki/Roadmap:-IPython#wiki-release-30-summer-2014) & [here](http://ipython.org/usersurvey2013.html)\n",
      "\n",
      "* User support for the notebook server\n",
      "    * server runs as root, notebook users map 1:1 to actual user accounts on the box\n",
      "* (native) Non-python kernels through the UI\n",
      "    * Contributed ruby, julia, r kernels"
     ]
    },
    {
     "cell_type": "code",
     "collapsed": false,
     "input": [
      "from base import style_nb\n",
      "style_nb()"
     ],
     "language": "python",
     "metadata": {
      "slideshow": {
       "slide_type": "skip"
      }
     },
     "outputs": [
      {
       "html": [
        "\n",
        "<style>\n",
        "    @font-face {\n",
        "        font-family: \"Computer Modern\";\n",
        "        src: url('http://mirrors.ctan.org/fonts/cm-unicode/fonts/otf/cmunss.otf');\n",
        "    }\n",
        "    div.cell{\n",
        "        width: 90%;\n",
        "/*        margin-left:auto;*/\n",
        "/*        margin-right:auto;*/\n",
        "    }\n",
        "    ul {\n",
        "        line-height: 145%;\n",
        "        font-size: 90%;\n",
        "    }\n",
        "    li {\n",
        "        margin-bottom: 1em;\n",
        "    }\n",
        "    h1 {\n",
        "        font-family: Helvetica, serif;\n",
        "    }\n",
        "    h4{\n",
        "        margin-top: 12px;\n",
        "        margin-bottom: 3px;\n",
        "       }\n",
        "    div.text_cell_render{\n",
        "        font-family: Computer Modern, \"Helvetica Neue\", Arial, Helvetica, Geneva, sans-serif;\n",
        "        line-height: 145%;\n",
        "        font-size: 130%;\n",
        "        width: 90%;\n",
        "        margin-left:auto;\n",
        "        margin-right:auto;\n",
        "    }\n",
        "    .CodeMirror{\n",
        "            font-family: \"Source Code Pro\", source-code-pro,Consolas, monospace;\n",
        "    }\n",
        "/*    .prompt{\n",
        "        display: None;\n",
        "    }*/\n",
        "    .text_cell_render h5 {\n",
        "        font-weight: 300;\n",
        "        font-size: 16pt;\n",
        "        color: #4057A1;\n",
        "        font-style: italic;\n",
        "        margin-bottom: 0.5em;\n",
        "        margin-top: 0.5em;\n",
        "        display: block;\n",
        "    }\n",
        "\n",
        "    .warning{\n",
        "        color: rgb( 240, 20, 20 )\n",
        "        }\n",
        "</style>"
       ],
       "metadata": {},
       "output_type": "pyout",
       "prompt_number": 2,
       "text": [
        "<IPython.core.display.HTML at 0x103e3d510>"
       ]
      }
     ],
     "prompt_number": 2
    }
   ],
   "metadata": {}
  }
 ]
}